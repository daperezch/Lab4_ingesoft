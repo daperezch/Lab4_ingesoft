{
 "cells": [
  {
   "cell_type": "markdown",
   "metadata": {},
   "source": [
    "# Sorting Algorithms"
   ]
  },
  {
   "cell_type": "markdown",
   "metadata": {},
   "source": [
    "QuickSort Algorithm $\\rightarrow \\,\\, O(n^2)\\,\\,$(Worst Case) "
   ]
  },
  {
   "cell_type": "code",
   "execution_count": 6,
   "metadata": {},
   "outputs": [
    {
     "data": {
      "text/plain": [
       "[0, 1, 1, 1, 2, 2, 3, 4, 4, 8, 9, 11, 12]"
      ]
     },
     "execution_count": 6,
     "metadata": {},
     "output_type": "execute_result"
    }
   ],
   "source": [
    "def quicksort(a):\n",
    "    if len(a)<=1: return a\n",
    "    left,right = [],[]\n",
    "    p = a[0]\n",
    "    for i in range(1,len(a)):\n",
    "        if a[i]<p: left.append(a[i])\n",
    "        else: right.append(a[i])\n",
    "    return quicksort(left)+[p]+quicksort(right)\n",
    "\n",
    "quicksort([1,4,1,2,1,4,2,12,11,8,9,3,0])\n"
   ]
  },
  {
   "cell_type": "markdown",
   "metadata": {},
   "source": [
    "MergeSort Algorithm $\\rightarrow \\,\\, O(n\\, \\text{log}(n))\\,\\,$(Worst - Average Case)"
   ]
  },
  {
   "cell_type": "code",
   "execution_count": 7,
   "metadata": {},
   "outputs": [
    {
     "data": {
      "text/plain": [
       "[0, 1, 1, 1, 2, 2, 3, 4, 4, 8, 9, 11, 12]"
      ]
     },
     "execution_count": 7,
     "metadata": {},
     "output_type": "execute_result"
    }
   ],
   "source": [
    "def merge(a,b):\n",
    "    i = 0\n",
    "    j = 0\n",
    "    r = []\n",
    "    while(i<len(a) and j<len(b)):\n",
    "        if(a[i]<b[j]): \n",
    "            r.append(a[i])\n",
    "            i+=1\n",
    "        else:\n",
    "            r.append(b[j])\n",
    "            j+=1\n",
    "    while(i<len(a)):\n",
    "        r.append(a[i])\n",
    "        i+=1\n",
    "\n",
    "    while(j<len(b)):\n",
    "        r.append(b[j])\n",
    "        j+=1\n",
    "    return r\n",
    "\n",
    "def mergesort(a):\n",
    "    if len(a)<=1: return a\n",
    "    p1 = mergesort(a[:len(a)//2])\n",
    "    p2 = mergesort(a[len(a)//2:])\n",
    "    return merge(p1,p2)\n",
    "\n",
    "\n",
    "mergesort([1,4,1,2,1,4,2,12,11,8,9,3,0])\n"
   ]
  },
  {
   "cell_type": "markdown",
   "metadata": {},
   "source": [
    "CountingSort Algorithm $\\rightarrow \\,\\, O(n)\\,\\,$(Worst - Average Case)"
   ]
  },
  {
   "cell_type": "code",
   "execution_count": 8,
   "metadata": {},
   "outputs": [
    {
     "data": {
      "text/plain": [
       "[0, 1, 1, 1, 2, 2, 3, 4, 4, 8, 9, 11, 12]"
      ]
     },
     "execution_count": 8,
     "metadata": {},
     "output_type": "execute_result"
    }
   ],
   "source": [
    "def countingsort(a):\n",
    "    mx,mn = max(a),min(a)\n",
    "    counter = [0 for i in range(mn,mx+1)]\n",
    "    for i in a:\n",
    "        counter[i-mn]+=1\n",
    "    k = 0\n",
    "    i = 0\n",
    "    while(i<len(counter)):\n",
    "        if(counter[i]!=0):\n",
    "            counter[i]-=1\n",
    "            a[k] = mn+i\n",
    "            k+=1\n",
    "        else:\n",
    "            i+=1\n",
    "    return a\n",
    "\n",
    "\n",
    "countingsort([1,4,1,2,1,4,2,12,11,8,9,3,0])"
   ]
  },
  {
   "cell_type": "markdown",
   "metadata": {},
   "source": [
    "BubbleSort Algorithm $\\rightarrow \\,\\, O(n^2)\\,\\,$(Worst - Average Case)"
   ]
  },
  {
   "cell_type": "code",
   "execution_count": 9,
   "metadata": {},
   "outputs": [
    {
     "data": {
      "text/plain": [
       "[0, 1, 1, 1, 2, 2, 3, 4, 4, 8, 9, 11, 12]"
      ]
     },
     "execution_count": 9,
     "metadata": {},
     "output_type": "execute_result"
    }
   ],
   "source": [
    "def bubblesort(a):\n",
    "    n =  len(a)\n",
    "    for i in range(n):\n",
    "        swapped = False\n",
    "        for j in range(0, n-i-1):\n",
    "            if a[j] > a[j+1]:\n",
    "                a[j], a[j+1] = a[j+1], a[j]\n",
    "                swapped = True\n",
    "        if (swapped == False): return a\n",
    "\n",
    "bubblesort([1,4,1,2,1,4,2,12,11,8,9,3,0])\n"
   ]
  },
  {
   "cell_type": "markdown",
   "metadata": {},
   "source": [
    "InsertionSort Algorithm $\\rightarrow \\,\\, O(n^2)\\,\\,$(Worst - Average Case)"
   ]
  },
  {
   "cell_type": "code",
   "execution_count": 10,
   "metadata": {},
   "outputs": [
    {
     "data": {
      "text/plain": [
       "[0, 1, 1, 1, 2, 2, 3, 4, 4, 8, 9, 11, 12]"
      ]
     },
     "execution_count": 10,
     "metadata": {},
     "output_type": "execute_result"
    }
   ],
   "source": [
    "def insertionsort(a):\n",
    "    n = len(a)\n",
    "    if n <= 1:\n",
    "        return a\n",
    " \n",
    "    for i in range(1, n):  \n",
    "        key = a[i]  \n",
    "        j = i-1\n",
    "        while j >= 0 and key < a[j]:  \n",
    "            a[j+1] = a[j]\n",
    "            j -= 1\n",
    "        a[j+1] = key\n",
    "    return a\n",
    "\n",
    "insertionsort([1,4,1,2,1,4,2,12,11,8,9,3,0])"
   ]
  },
  {
   "cell_type": "markdown",
   "metadata": {},
   "source": [
    "# Complexity Comparison"
   ]
  },
  {
   "cell_type": "code",
   "execution_count": 17,
   "metadata": {},
   "outputs": [
    {
     "name": "stdout",
     "output_type": "stream",
     "text": [
      "Requirement already satisfied: matplotlib in c:\\users\\omard\\appdata\\local\\packages\\pythonsoftwarefoundation.python.3.10_qbz5n2kfra8p0\\localcache\\local-packages\\python310\\site-packages (3.5.2)\n",
      "Requirement already satisfied: cycler>=0.10 in c:\\users\\omard\\appdata\\local\\packages\\pythonsoftwarefoundation.python.3.10_qbz5n2kfra8p0\\localcache\\local-packages\\python310\\site-packages (from matplotlib) (0.11.0)\n",
      "Requirement already satisfied: fonttools>=4.22.0 in c:\\users\\omard\\appdata\\local\\packages\\pythonsoftwarefoundation.python.3.10_qbz5n2kfra8p0\\localcache\\local-packages\\python310\\site-packages (from matplotlib) (4.33.3)\n",
      "Requirement already satisfied: kiwisolver>=1.0.1 in c:\\users\\omard\\appdata\\local\\packages\\pythonsoftwarefoundation.python.3.10_qbz5n2kfra8p0\\localcache\\local-packages\\python310\\site-packages (from matplotlib) (1.4.2)\n",
      "Requirement already satisfied: numpy>=1.17 in c:\\users\\omard\\appdata\\local\\packages\\pythonsoftwarefoundation.python.3.10_qbz5n2kfra8p0\\localcache\\local-packages\\python310\\site-packages (from matplotlib) (1.22.4)\n",
      "Requirement already satisfied: packaging>=20.0 in c:\\users\\omard\\appdata\\local\\packages\\pythonsoftwarefoundation.python.3.10_qbz5n2kfra8p0\\localcache\\local-packages\\python310\\site-packages (from matplotlib) (21.3)\n",
      "Requirement already satisfied: pillow>=6.2.0 in c:\\users\\omard\\appdata\\local\\packages\\pythonsoftwarefoundation.python.3.10_qbz5n2kfra8p0\\localcache\\local-packages\\python310\\site-packages (from matplotlib) (9.1.0)\n",
      "Requirement already satisfied: pyparsing>=2.2.1 in c:\\users\\omard\\appdata\\local\\packages\\pythonsoftwarefoundation.python.3.10_qbz5n2kfra8p0\\localcache\\local-packages\\python310\\site-packages (from matplotlib) (3.0.9)\n",
      "Requirement already satisfied: python-dateutil>=2.7 in c:\\users\\omard\\appdata\\local\\packages\\pythonsoftwarefoundation.python.3.10_qbz5n2kfra8p0\\localcache\\local-packages\\python310\\site-packages (from matplotlib) (2.8.2)\n",
      "Requirement already satisfied: six>=1.5 in c:\\users\\omard\\appdata\\local\\packages\\pythonsoftwarefoundation.python.3.10_qbz5n2kfra8p0\\localcache\\local-packages\\python310\\site-packages (from python-dateutil>=2.7->matplotlib) (1.16.0)\n"
     ]
    }
   ],
   "source": [
    "!pip install matplotlib"
   ]
  },
  {
   "cell_type": "markdown",
   "metadata": {},
   "source": [
    "Define Routine to get time elapsed"
   ]
  },
  {
   "cell_type": "code",
   "execution_count": 18,
   "metadata": {},
   "outputs": [
    {
     "name": "stdout",
     "output_type": "stream",
     "text": [
      "Time elapsed to sort the list [92, 45, 2, 150, 106, 144, 5, 106, 79, 88, 110, 103, 43, 142, 116, 123, 21, 44, 52, 42, 110, 3, 106, 65, 89, 84, 28, 100, 59, 65, 140, 113, 62, 106, 150, 111, 18, 136, 123, 150, 117, 146, 122, 101, 70, 55, 51, 41, 74, 70, 94, 53, 131, 17, 111, 14, 7, 47, 41, 60, 78, 102, 5, 127, 75, 68, 144, 11, 140, 145, 137, 127, 68, 26, 85, 16, 94, 0, 143, 3, 92, 2, 115, 124, 35, 35, 78, 29, 147, 93, 78, 72, 11, 130, 6, 78, 9, 45, 87, 52]\n",
      "with bubblesort is 0.0043299198150634766 seconds\n"
     ]
    }
   ],
   "source": [
    "import time\n",
    "from random import randint\n",
    "\n",
    "def gettime(a,fun):\n",
    "    t1 = time.time()\n",
    "    fun(a)\n",
    "    return time.time()-t1\n",
    "\n",
    "a = [randint(0,150) for i in range(100)]\n",
    "print(f'Time elapsed to sort the list {a}\\nwith bubblesort is {gettime(a,bubblesort)} seconds')"
   ]
  }
 ],
 "metadata": {
  "kernelspec": {
   "display_name": "Python 3",
   "language": "python",
   "name": "python3"
  },
  "language_info": {
   "codemirror_mode": {
    "name": "ipython",
    "version": 3
   },
   "file_extension": ".py",
   "mimetype": "text/x-python",
   "name": "python",
   "nbconvert_exporter": "python",
   "pygments_lexer": "ipython3",
   "version": "3.10.11"
  },
  "orig_nbformat": 4
 },
 "nbformat": 4,
 "nbformat_minor": 2
}
