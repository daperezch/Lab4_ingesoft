{
 "cells": [
  {
   "cell_type": "markdown",
   "metadata": {},
   "source": [
    "# Sorting Algorithms"
   ]
  },
  {
   "cell_type": "markdown",
   "metadata": {},
   "source": [
    "QuickSort Algorithm $\\rightarrow \\,\\, O(n^2)\\,\\,$(Worst Case) "
   ]
  },
  {
   "cell_type": "code",
   "execution_count": null,
   "metadata": {},
   "outputs": [
    {
     "data": {
      "text/plain": [
       "[0, 1, 1, 1, 2, 2, 3, 4, 4, 8, 9, 11, 12]"
      ]
     },
     "execution_count": 4,
     "metadata": {},
     "output_type": "execute_result"
    }
   ],
   "source": [
    "def quicksort(a):\n",
    "    if len(a)<=1: return a\n",
    "    left,right = [],[]\n",
    "    p = a[0]\n",
    "    for i in range(1,len(a)):\n",
    "        if a[i]<p: left.append(a[i])\n",
    "        else: right.append(a[i])\n",
    "    return quicksort(left)+[p]+quicksort(right)\n",
    "\n",
    "quicksort([1,4,1,2,1,4,2,12,11,8,9,3,0])\n"
   ]
  },
  {
   "cell_type": "markdown",
   "metadata": {},
   "source": [
    "MergeSort Algorithm $\\rightarrow \\,\\, O(n^2)\\,\\,$(Worst Case)"
   ]
  },
  {
   "cell_type": "code",
   "execution_count": 10,
   "metadata": {},
   "outputs": [
    {
     "data": {
      "text/plain": [
       "[0, 1, 1, 1, 2, 2, 3, 4, 4, 8, 9, 11, 12]"
      ]
     },
     "execution_count": 10,
     "metadata": {},
     "output_type": "execute_result"
    }
   ],
   "source": [
    "def merge(a,b):\n",
    "    i = 0\n",
    "    j = 0\n",
    "    r = []\n",
    "    while(i<len(a) and j<len(b)):\n",
    "        if(a[i]<b[j]): \n",
    "            r.append(a[i])\n",
    "            i+=1\n",
    "        else:\n",
    "            r.append(b[j])\n",
    "            j+=1\n",
    "    while(i<len(a)):\n",
    "        r.append(a[i])\n",
    "        i+=1\n",
    "\n",
    "    while(j<len(b)):\n",
    "        r.append(b[j])\n",
    "        j+=1\n",
    "    return r\n",
    "\n",
    "def mergesort(a):\n",
    "    if len(a)<=1: return a\n",
    "    p1 = mergesort(a[:len(a)//2])\n",
    "    p2 = mergesort(a[len(a)//2:])\n",
    "    return merge(p1,p2)\n",
    "\n",
    "\n",
    "mergesort([1,4,1,2,1,4,2,12,11,8,9,3,0])\n"
   ]
  }
 ],
 "metadata": {
  "kernelspec": {
   "display_name": "Python 3",
   "language": "python",
   "name": "python3"
  },
  "language_info": {
   "codemirror_mode": {
    "name": "ipython",
    "version": 3
   },
   "file_extension": ".py",
   "mimetype": "text/x-python",
   "name": "python",
   "nbconvert_exporter": "python",
   "pygments_lexer": "ipython3",
   "version": "3.10.11"
  },
  "orig_nbformat": 4
 },
 "nbformat": 4,
 "nbformat_minor": 2
}
